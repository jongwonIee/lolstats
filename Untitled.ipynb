{
 "cells": [
  {
   "cell_type": "code",
   "execution_count": 60,
   "metadata": {
    "collapsed": false
   },
   "outputs": [],
   "source": [
    "Stats = {'playername':[], 'result':[], 'kill':[], 'death':[], 'assist':[]}"
   ]
  },
  {
   "cell_type": "code",
   "execution_count": null,
   "metadata": {
    "collapsed": true
   },
   "outputs": [],
   "source": [
    "#result 0 or 1\n",
    "#kill, death, assist 0~무한대"
   ]
  },
  {
   "cell_type": "code",
   "execution_count": 131,
   "metadata": {
    "collapsed": false
   },
   "outputs": [],
   "source": [
    "def register():\n",
    "    playername = input()\n",
    "    Stats['playername'].append(playername)\n",
    "    Stats['result'].append([])\n",
    "    Stats['kill'].append([])\n",
    "    Stats['death'].append([])\n",
    "    Stats['assist'].append([])"
   ]
  },
  {
   "cell_type": "code",
   "execution_count": 132,
   "metadata": {
    "collapsed": false
   },
   "outputs": [],
   "source": [
    "def show():\n",
    "    playername = input()\n",
    "    playerid = identifier(playername)\n",
    "    a = 0\n",
    "    for i in Stats['result'][playerid]:\n",
    "        a += int(i)\n",
    "    print (Stats['playername'][playerid] + \"님의 승률은 \" +\n",
    "           str(averager(Stats['result'][playerid]) * 100) + \"%이고 kda는 \" +\n",
    "           str(int(averager(Stats['kill'][playerid]))) +\"/\" +\n",
    "           str(int(averager(Stats['death'][playerid]))) + \"/\" +\n",
    "           str(int(averager(Stats['assist'][playerid]))) + \"입니다!\")"
   ]
  },
  {
   "cell_type": "code",
   "execution_count": 133,
   "metadata": {
    "collapsed": true
   },
   "outputs": [],
   "source": [
    "def write():\n",
    "    playername = input()\n",
    "    result = input()\n",
    "    kill = input()\n",
    "    death = input()\n",
    "    assist = input()\n",
    "    playerid = identifier(playername)\n",
    "    Stats['result'][playerid].append(result)\n",
    "    Stats['kill'][playerid].append(kill)\n",
    "    Stats['death'][playerid].append(death)\n",
    "    Stats['assist'][playerid].append(assist)\n",
    "    print (Stats['playername'][playerid] + \"님의 전적이 업데이트 되었습니다!\")"
   ]
  },
  {
   "cell_type": "code",
   "execution_count": 134,
   "metadata": {
    "collapsed": true
   },
   "outputs": [],
   "source": [
    "def identifier(playername):\n",
    "    a = 0\n",
    "    for i in Stats['playername']:\n",
    "        if str(playername) == i:\n",
    "            break\n",
    "        else:\n",
    "            a += 1\n",
    "    return a        "
   ]
  },
  {
   "cell_type": "code",
   "execution_count": 135,
   "metadata": {
    "collapsed": true
   },
   "outputs": [],
   "source": [
    "def averager(list):\n",
    "    a = 0\n",
    "    for i in list:\n",
    "        a += int(i)\n",
    "    return a/len(list)"
   ]
  },
  {
   "cell_type": "code",
   "execution_count": null,
   "metadata": {
    "collapsed": true
   },
   "outputs": [],
   "source": [
    "register()"
   ]
  },
  {
   "cell_type": "code",
   "execution_count": 107,
   "metadata": {
    "collapsed": false
   },
   "outputs": [
    {
     "name": "stdout",
     "output_type": "stream",
     "text": [
      "아이고김사장님\n",
      "1\n",
      "4\n",
      "0\n",
      "1\n",
      "아이고김사장님님의 전적이 업데이트 되었습니다!\n"
     ]
    }
   ],
   "source": [
    "write()"
   ]
  },
  {
   "cell_type": "code",
   "execution_count": 129,
   "metadata": {
    "collapsed": false
   },
   "outputs": [
    {
     "name": "stdout",
     "output_type": "stream",
     "text": [
      "룻비어\n",
      "룻비어님의 승률은 50.0%이고 kda는 5/0/2입니다!\n"
     ]
    }
   ],
   "source": [
    "show()"
   ]
  },
  {
   "cell_type": "code",
   "execution_count": 130,
   "metadata": {
    "collapsed": false
   },
   "outputs": [
    {
     "data": {
      "text/plain": [
       "{'assist': [['2', '2', '2', '3'], ['1']],\n",
       " 'death': [['0', '1', '1', '1'], ['0']],\n",
       " 'kill': [['5', '4', '7', '4'], ['4']],\n",
       " 'playername': ['룻비어', '아이고김사장님'],\n",
       " 'result': [['1', '0', '0', '1'], ['1']]}"
      ]
     },
     "execution_count": 130,
     "metadata": {},
     "output_type": "execute_result"
    }
   ],
   "source": [
    "Stats"
   ]
  },
  {
   "cell_type": "code",
   "execution_count": null,
   "metadata": {
    "collapsed": false
   },
   "outputs": [],
   "source": []
  },
  {
   "cell_type": "code",
   "execution_count": null,
   "metadata": {
    "collapsed": true
   },
   "outputs": [],
   "source": []
  }
 ],
 "metadata": {
  "kernelspec": {
   "display_name": "Python 3",
   "language": "python",
   "name": "python3"
  },
  "language_info": {
   "codemirror_mode": {
    "name": "ipython",
    "version": 3
   },
   "file_extension": ".py",
   "mimetype": "text/x-python",
   "name": "python",
   "nbconvert_exporter": "python",
   "pygments_lexer": "ipython3",
   "version": "3.5.1"
  }
 },
 "nbformat": 4,
 "nbformat_minor": 1
}
